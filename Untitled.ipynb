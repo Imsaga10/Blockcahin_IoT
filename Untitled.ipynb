{
 "cells": [
  {
   "cell_type": "code",
   "execution_count": 1,
   "id": "7b79fbac",
   "metadata": {},
   "outputs": [],
   "source": [
    "from flask import Flask, session\n",
    "from flask import render_template,request\n",
    "import os\n",
    "import random\n",
    "import json\n",
    "from web3 import Web3, HTTPProvider\n",
    "\n",
    "app = Flask(__name__)\n",
    "\n",
    "UPLOAD_FOLDER = 'static/detecteimages/'\n",
    "app.config['UPLOAD_FOLDER'] = UPLOAD_FOLDER\n",
    "\n",
    "app.secret_key = 'any random string'\n",
    "\n",
    "from Crypto.Cipher import AES\n",
    "from Crypto import Random\n",
    "from hashlib import sha256\n",
    "\n",
    "from Crypto.PublicKey import RSA\n",
    "from Crypto.Cipher import PKCS1_OAEP\n",
    "import binascii"
   ]
  },
  {
   "cell_type": "code",
   "execution_count": 2,
   "id": "6e004340",
   "metadata": {},
   "outputs": [],
   "source": [
    "# truffle development blockchain address\n",
    "blockchain_address = 'http://127.0.0.1:9545'\n",
    "# Client instance to interact with the blockchain\n",
    "web3 = Web3(HTTPProvider(blockchain_address))\n",
    "# Set the default account (so we don't need to set the \"from\" for every transaction call)\n",
    "web3.eth.defaultAccount = web3.eth.accounts[0]\n",
    "\n",
    "# Path to the compiled contract JSON file\n",
    "compiled_contract_path = 'build/contracts/BlockchainIOT.json'\n",
    "\n",
    "# Deployed contract address (see `migrate` command output: `contract address`)\n",
    "deployed_contract_address = '0x0c9B6499D6f6Ab4A73E5867778c2b1Ba5DCe839f'\n",
    "\n",
    "with open(compiled_contract_path) as file:\n",
    "    contract_json = json.load(file)  # load contract info as JSON\n",
    "    contract_abi = contract_json['abi']  # fetch contract's abi - necessary to call its functions\n",
    "#print(contract_abi)\n",
    "# Fetch deployed contract reference\n",
    "contract = web3.eth.contract(address=deployed_contract_address, abi=contract_abi)"
   ]
  },
  {
   "cell_type": "code",
   "execution_count": 3,
   "id": "5321eda4",
   "metadata": {},
   "outputs": [],
   "source": [
    "# data = contract.functions.getfiledetails(web3.eth.accounts[0],\"a\").call()\n",
    "\n",
    "# length = str(len(data)+1)\n",
    "# print(length) \n",
    "\n",
    "# acc1privatekey='8aeff0fd60cb7f155a497909dea0a5969bb54ec0e95a13d70b66e4df8c473e4a'\n",
    "# nonce = web3.eth.getTransactionCount(web3.eth.accounts[0])\n",
    "# tx_hash1 = contract.functions.addFiledetails(web3.eth.accounts[0],\"File_\"+length+\".txt\",\"username\",\"privatekey_hash\",\"strencry\",\"publickkey\",\"encfile_hash\").buildTransaction({'gas':2000000,'gasPrice':web3.toWei('50','gWei'),'from':web3.eth.accounts[0],'nonce':nonce})\n",
    "# signed_tx=web3.eth.account.signTransaction(tx_hash1,private_key=acc1privatekey)\n",
    "\n",
    "# tx = web3.eth.sendRawTransaction(signed_tx.rawTransaction)\n",
    "# print(tx)"
   ]
  },
  {
   "cell_type": "code",
   "execution_count": 4,
   "id": "74132aa0",
   "metadata": {},
   "outputs": [
    {
     "data": {
      "text/plain": [
       "[]"
      ]
     },
     "execution_count": 4,
     "metadata": {},
     "output_type": "execute_result"
    }
   ],
   "source": [
    "data = contract.functions.getfiledetails(web3.eth.accounts[0],\"a\").call()\n",
    "data "
   ]
  },
  {
   "cell_type": "code",
   "execution_count": 5,
   "id": "09f897dd",
   "metadata": {},
   "outputs": [
    {
     "name": "stdout",
     "output_type": "stream",
     "text": [
      "List after empty list removal : []\n"
     ]
    }
   ],
   "source": [
    "test_list = data\n",
    "\n",
    "res = [ele for ele in test_list if ele[1] != '']\n",
    "\n",
    "# printing result\n",
    "print(\"List after empty list removal : \" + str(res))\n"
   ]
  },
  {
   "cell_type": "code",
   "execution_count": 8,
   "id": "2f12d118",
   "metadata": {},
   "outputs": [
    {
     "name": "stdout",
     "output_type": "stream",
     "text": [
      "[('0x8F72FC1b1ce5F3FE75850Ead05EC110A1dF02c2a', 'a', '2022-05-14', 'yashsalvi1999@gmail.com', '9930090883', 'a'), ('0x8F72FC1b1ce5F3FE75850Ead05EC110A1dF02c2a', 'b', '2022-05-13', 'a@gmail.com', '9930090883', 'b')]\n"
     ]
    }
   ],
   "source": [
    "alluser = contract.functions.getAlluser(web3.eth.accounts[0]).call()  \n",
    "res = [ele for ele in alluser if ele[1] != '']\n",
    "\n",
    "print(res)"
   ]
  },
  {
   "cell_type": "code",
   "execution_count": null,
   "id": "b9e6492b",
   "metadata": {},
   "outputs": [],
   "source": []
  }
 ],
 "metadata": {
  "kernelspec": {
   "display_name": "Python 3",
   "language": "python",
   "name": "python3"
  },
  "language_info": {
   "codemirror_mode": {
    "name": "ipython",
    "version": 3
   },
   "file_extension": ".py",
   "mimetype": "text/x-python",
   "name": "python",
   "nbconvert_exporter": "python",
   "pygments_lexer": "ipython3",
   "version": "3.8.10"
  }
 },
 "nbformat": 4,
 "nbformat_minor": 5
}
